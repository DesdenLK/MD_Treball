{
 "cells": [
  {
   "cell_type": "markdown",
   "metadata": {},
   "source": [
    "# K-NN in python: search for the best k"
   ]
  },
  {
   "cell_type": "markdown",
   "metadata": {},
   "source": [
    "## 1- Load the required modeules"
   ]
  },
  {
   "cell_type": "code",
   "execution_count": 21,
   "metadata": {},
   "outputs": [],
   "source": [
    "import numpy as np\n",
    "import pandas as pd                    # Llibreria matemÃ tica\n",
    "import matplotlib.pyplot as plt        # Per mostrar plots\n",
    "import sklearn                         # Llibreia de DM\n",
    "import sklearn.datasets as ds            # Per carregar mÃ©s facilment el dataset digits\n",
    "import sklearn.model_selection as cv    # Pel Cross-validation\n",
    "import sklearn.neighbors as nb           # Per fer servir el knn\n",
    "%matplotlib inline                     "
   ]
  },
  {
   "cell_type": "markdown",
   "metadata": {},
   "source": [
    "## 2- Load the data"
   ]
  },
  {
   "cell_type": "code",
   "execution_count": 25,
   "metadata": {},
   "outputs": [
    {
     "name": "stdout",
     "output_type": "stream",
     "text": [
      "(gender          0.0\n",
      "age             0.0\n",
      "height          0.0\n",
      "weight          0.0\n",
      "waist           0.0\n",
      "sightL          0.0\n",
      "sightR          0.0\n",
      "hearL           0.0\n",
      "hearR           0.0\n",
      "systolicP       0.0\n",
      "diastolicP      0.0\n",
      "fastBSugar      0.0\n",
      "cholesterol     0.0\n",
      "triglyceride    0.0\n",
      "hdl             0.0\n",
      "ldl             0.0\n",
      "hemoglobin      0.0\n",
      "uProtein        0.0\n",
      "sCreatinine     0.0\n",
      "ast             0.0\n",
      "alt             0.0\n",
      "gtp             0.0\n",
      "caries          0.0\n",
      "tartar          0.0\n",
      "dtype: float64, gender          1.0\n",
      "age             1.0\n",
      "height          1.0\n",
      "weight          1.0\n",
      "waist           1.0\n",
      "sightL          1.0\n",
      "sightR          1.0\n",
      "hearL           1.0\n",
      "hearR           1.0\n",
      "systolicP       1.0\n",
      "diastolicP      1.0\n",
      "fastBSugar      1.0\n",
      "cholesterol     1.0\n",
      "triglyceride    1.0\n",
      "hdl             1.0\n",
      "ldl             1.0\n",
      "hemoglobin      1.0\n",
      "uProtein        1.0\n",
      "sCreatinine     1.0\n",
      "ast             1.0\n",
      "alt             1.0\n",
      "gtp             1.0\n",
      "caries          1.0\n",
      "tartar          1.0\n",
      "dtype: float64)\n"
     ]
    }
   ],
   "source": [
    "# Load digits dataset from scikit\n",
    "smoking_dataset = pd.read_csv(filepath_or_buffer=\"Dataset/Normalized_Smoking.csv\")\n",
    "\n",
    "X = smoking_dataset.iloc[:, :-1]\n",
    "y = smoking_dataset.loc[:, \"smoking\"]\n",
    "(X_train, X_test,  y_train, y_test) = cv.train_test_split(X, y, test_size = .3, random_state = 1)\n",
    "print((X.min(), X.max()))"
   ]
  },
  {
   "cell_type": "markdown",
   "metadata": {},
   "source": [
    "## 3- Simple cross-validation"
   ]
  },
  {
   "cell_type": "code",
   "execution_count": 32,
   "metadata": {},
   "outputs": [
    {
     "name": "stdout",
     "output_type": "stream",
     "text": [
      "0.7351192263799627\n"
     ]
    }
   ],
   "source": [
    "# Let's do a simple cross-validation: split data into training and test sets (test 30% of data)\n",
    "(X_train, X_test,  y_train, y_test) = cv.train_test_split(X, y, test_size=.3, random_state=1)\n",
    "\n",
    "# Create a kNN classifier object\n",
    "knc = nb.KNeighborsClassifier()\n",
    "\n",
    "# Train the classifier\n",
    "knc.fit(X_train, y_train)\n",
    "\n",
    "# Obtain accuracy score of learned classifier on test data\n",
    "print(knc.score(X_test, y_test))\n",
    "\n"
   ]
  },
  {
   "cell_type": "code",
   "execution_count": 33,
   "metadata": {},
   "outputs": [
    {
     "name": "stdout",
     "output_type": "stream",
     "text": [
      "[[8361 2224]\n",
      " [2186 3878]]\n"
     ]
    }
   ],
   "source": [
    "# More information with confussion matrix\n",
    "from sklearn.metrics import confusion_matrix\n",
    "\n",
    "y_pred = knc.predict(X_test)\n",
    "print(sklearn.metrics.confusion_matrix(y_test, y_pred))"
   ]
  },
  {
   "cell_type": "code",
   "execution_count": 34,
   "metadata": {},
   "outputs": [
    {
     "name": "stdout",
     "output_type": "stream",
     "text": [
      "              precision    recall  f1-score   support\n",
      "\n",
      "         0.0       0.79      0.79      0.79     10585\n",
      "         1.0       0.64      0.64      0.64      6064\n",
      "\n",
      "    accuracy                           0.74     16649\n",
      "   macro avg       0.71      0.71      0.71     16649\n",
      "weighted avg       0.74      0.74      0.74     16649\n",
      "\n"
     ]
    }
   ],
   "source": [
    "# Obtain Recall, Precision and F-Measure for each class\n",
    "from sklearn import metrics\n",
    "\n",
    "print(metrics.classification_report(y_test, y_pred))"
   ]
  },
  {
   "cell_type": "markdown",
   "metadata": {},
   "source": [
    "## 4- Let's do a 10-fold cross-validation"
   ]
  },
  {
   "cell_type": "code",
   "execution_count": 36,
   "metadata": {},
   "outputs": [
    {
     "name": "stdout",
     "output_type": "stream",
     "text": [
      "[0.72432432 0.7154955  0.72936937 0.72756757 0.71976933 0.7208506\n",
      " 0.72319337 0.72319337 0.79509822 0.79599928]\n"
     ]
    }
   ],
   "source": [
    "# Method 1\n",
    "from sklearn.model_selection import cross_val_score  \n",
    "from sklearn.model_selection import cross_val_predict  \n",
    "from sklearn.metrics import accuracy_score\n",
    "\n",
    "cv_scores = cross_val_score(nb.KNeighborsClassifier(),  \n",
    "                            X=X,  \n",
    "                            y=y,  \n",
    "                            cv=10, scoring='accuracy')  \n",
    "\n",
    "# cv_scores is a list with 10 accuracies (one for each validation)\n",
    "print(cv_scores)"
   ]
  },
  {
   "cell_type": "code",
   "execution_count": 37,
   "metadata": {},
   "outputs": [
    {
     "name": "stdout",
     "output_type": "stream",
     "text": [
      "0.7374860919668993\n",
      "0.029262969396403337\n"
     ]
    }
   ],
   "source": [
    "# Let's get the mean of the 10 validations (and standard deviation of them)\n",
    "print(np.mean(cv_scores))\n",
    "print(np.std(cv_scores))"
   ]
  },
  {
   "cell_type": "code",
   "execution_count": 38,
   "metadata": {},
   "outputs": [
    {
     "name": "stdout",
     "output_type": "stream",
     "text": [
      "[[27926  7180]\n",
      " [ 7388 13000]]\n",
      "0.737485133527949\n"
     ]
    }
   ],
   "source": [
    "# Method 2\n",
    "# Build confussion matrix of all 10 cross-validations\n",
    "predicted = cross_val_predict(nb.KNeighborsClassifier(), X=X, y=y,  cv=10)  \n",
    "\n",
    "print(sklearn.metrics.confusion_matrix(y, predicted))\n",
    "print(sklearn.metrics.accuracy_score(y, predicted))"
   ]
  },
  {
   "cell_type": "code",
   "execution_count": 39,
   "metadata": {},
   "outputs": [
    {
     "data": {
      "image/png": "[encoded data removed]",
      "text/plain": [
       "<Figure size 250x250 with 1 Axes>"
      ]
     },
     "metadata": {},
     "output_type": "display_data"
    }
   ],
   "source": [
    "confmat = sklearn.metrics.confusion_matrix(y, predicted)\n",
    "\n",
    "fig, ax = plt.subplots(figsize=(2.5, 2.5))\n",
    "ax.matshow(confmat, cmap=plt.cm.Blues, alpha=0.3)\n",
    "for i in range(confmat.shape[0]):\n",
    "    for j in range(confmat.shape[1]):\n",
    "        ax.text(x=j, y=i, s=confmat[i, j], va='center', ha='center',fontsize=7)\n",
    "\n",
    "plt.xlabel('Predicted label')\n",
    "plt.ylabel('True label')\n",
    "\n",
    "plt.tight_layout()\n",
    "plt.savefig('ConMatrix.png', dpi=600)\n",
    "plt.show()"
   ]
  },
  {
   "cell_type": "code",
   "execution_count": 40,
   "metadata": {},
   "outputs": [
    {
     "name": "stdout",
     "output_type": "stream",
     "text": [
      "              precision    recall  f1-score   support\n",
      "\n",
      "         0.0       0.79      0.79      0.79     10585\n",
      "         1.0       0.64      0.64      0.64      6064\n",
      "\n",
      "    accuracy                           0.74     16649\n",
      "   macro avg       0.71      0.71      0.71     16649\n",
      "weighted avg       0.74      0.74      0.74     16649\n",
      "\n"
     ]
    }
   ],
   "source": [
    "from sklearn import metrics\n",
    "print(metrics.classification_report(y_test, y_pred))"
   ]
  },
  {
   "cell_type": "markdown",
   "metadata": {},
   "source": [
    "### [Optional] Let's see how ammount of training data influences accuracy "
   ]
  },
  {
   "cell_type": "code",
   "execution_count": 13,
   "metadata": {},
   "outputs": [
    {
     "data": {
      "image/png": "[encoded data removed]",
      "text/plain": [
       "<matplotlib.figure.Figure at 0x25776b8cb38>"
      ]
     },
     "metadata": {},
     "output_type": "display_data"
    }
   ],
   "source": [
    "import matplotlib.pyplot as plt\n",
    "from sklearn.model_selection import learning_curve\n",
    "\n",
    "train_sizes, train_scores, test_scores =\\\n",
    "                learning_curve(estimator=nb.KNeighborsClassifier(n_neighbors=3),\n",
    "                               X=X,\n",
    "                               y=y,\n",
    "                               train_sizes=np.linspace(0.05, 1.0, 10),\n",
    "                               cv=10,\n",
    "                               n_jobs=-1)\n",
    "\n",
    "train_mean = np.mean(train_scores, axis=1)\n",
    "train_std = np.std(train_scores, axis=1)\n",
    "test_mean = np.mean(test_scores, axis=1)\n",
    "test_std = np.std(test_scores, axis=1)\n",
    "\n",
    "plt.plot(train_sizes, train_mean,\n",
    "         color='blue', marker='o',\n",
    "         markersize=5, label='training accuracy')\n",
    "\n",
    "plt.fill_between(train_sizes,\n",
    "                 train_mean + train_std,\n",
    "                 train_mean - train_std,\n",
    "                 alpha=0.15, color='blue')\n",
    "\n",
    "plt.plot(train_sizes, test_mean,\n",
    "         color='green', linestyle='--',\n",
    "         marker='s', markersize=5,\n",
    "         label='validation accuracy')\n",
    "\n",
    "plt.fill_between(train_sizes,\n",
    "                 test_mean + test_std,\n",
    "                 test_mean - test_std,\n",
    "                 alpha=0.15, color='green')\n",
    "\n",
    "plt.grid(True)\n",
    "plt.xlabel('Number of training samples')\n",
    "plt.ylabel('Accuracy')\n",
    "plt.legend(loc='lower right')\n",
    "plt.ylim([0.8, 1.03])\n",
    "plt.tight_layout()\n",
    "plt.savefig('learning_curve.png', dpi=600)\n",
    "plt.show()"
   ]
  },
  {
   "cell_type": "markdown",
   "metadata": {},
   "source": [
    "## 5- Finding parameters for k-NN"
   ]
  },
  {
   "cell_type": "code",
   "execution_count": 41,
   "metadata": {},
   "outputs": [
    {
     "name": "stdout",
     "output_type": "stream",
     "text": [
      "Accuracy 1 neighbour: 0.7586564488572728\n",
      "Accuracy 3 neighbours: 0.7236454410862239\n",
      "Accuracy 5 neighbours: 0.7251129008955991\n",
      "Accuracy 7 neighbours: 0.7276613490053243\n",
      "Accuracy 9 neighbours: 0.7276614550404458\n"
     ]
    }
   ],
   "source": [
    "# See parameters in\n",
    "# http://scikit-learn.org/stable/modules/generated/sklearn.neighbors.KNeighborsClassifier.html\n",
    "\n",
    "# Results with different parameters: k\n",
    "cv_scores = cross_val_score(nb.KNeighborsClassifier(n_neighbors=1), X=X_train, y=y_train,  cv=10)  \n",
    "print(\"Accuracy 1 neighbour:\", np.mean(cv_scores))\n",
    "\n",
    "cv_scores = cross_val_score(nb.KNeighborsClassifier(n_neighbors=3), X=X_train, y=y_train,  cv=10)  \n",
    "print(\"Accuracy 3 neighbours:\",  np.mean(cv_scores))\n",
    "\n",
    "cv_scores = cross_val_score(nb.KNeighborsClassifier(n_neighbors=5), X=X_train, y=y_train,  cv=10)  \n",
    "print(\"Accuracy 5 neighbours:\",  np.mean(cv_scores))\n",
    "\n",
    "cv_scores = cross_val_score(nb.KNeighborsClassifier(n_neighbors=7), X=X_train, y=y_train,  cv=10)  \n",
    "print(\"Accuracy 7 neighbours:\",  np.mean(cv_scores))\n",
    "\n",
    "cv_scores = cross_val_score(nb.KNeighborsClassifier(n_neighbors=9), X=X_train, y=y_train,  cv=10)  \n",
    "print(\"Accuracy 9 neighbours:\",  np.mean(cv_scores))"
   ]
  },
  {
   "cell_type": "code",
   "execution_count": 42,
   "metadata": {},
   "outputs": [
    {
     "name": "stdout",
     "output_type": "stream",
     "text": [
      "Accuracy 1 neighbour: and distance weighting: 0.7586564488572728\n",
      "Accuracy 3 neighbour: and distance weighting: 0.7704210389586291\n",
      "Accuracy 5 neighbour: and distance weighting: 0.776805387114347\n",
      "Accuracy 7 neighbour: and distance weighting: 0.782262895527571\n",
      "Accuracy 9 neighbour: and distance weighting: 0.7834471023914896\n"
     ]
    }
   ],
   "source": [
    "# Results with different parameters: k and distance weighting\n",
    "cv_scores = cross_val_score(nb.KNeighborsClassifier(n_neighbors=1,weights='distance'), X=X_train, y=y_train,  cv=10)  \n",
    "print(\"Accuracy 1 neighbour: and distance weighting:\", np.mean(cv_scores))\n",
    "\n",
    "cv_scores = cross_val_score(nb.KNeighborsClassifier(n_neighbors=3,weights='distance'), X=X_train, y=y_train,  cv=10)  \n",
    "print(\"Accuracy 3 neighbour: and distance weighting:\", np.mean(cv_scores))\n",
    "\n",
    "cv_scores = cross_val_score(nb.KNeighborsClassifier(n_neighbors=5,weights='distance'), X=X_train, y=y_train,  cv=10)  \n",
    "print(\"Accuracy 5 neighbour: and distance weighting:\", np.mean(cv_scores))\n",
    "\n",
    "cv_scores = cross_val_score(nb.KNeighborsClassifier(n_neighbors=7,weights='distance'), X=X_train, y=y_train,  cv=10)  \n",
    "print(\"Accuracy 7 neighbour: and distance weighting:\", np.mean(cv_scores))\n",
    "\n",
    "cv_scores = cross_val_score(nb.KNeighborsClassifier(n_neighbors=9,weights='distance'), X=X_train, y=y_train,  cv=10)  \n",
    "print(\"Accuracy 9 neighbour: and distance weighting:\", np.mean(cv_scores))"
   ]
  },
  {
   "cell_type": "markdown",
   "metadata": {},
   "source": [
    "### Authomatically find best parameters:"
   ]
  },
  {
   "cell_type": "code",
   "execution_count": 43,
   "metadata": {},
   "outputs": [
    {
     "data": {
      "image/png": "[encoded data removed]",
      "text/plain": [
       "<Figure size 640x480 with 1 Axes>"
      ]
     },
     "metadata": {},
     "output_type": "display_data"
    }
   ],
   "source": [
    "lr = []\n",
    "for ki in range(1,30,2):\n",
    "    cv_scores = cross_val_score(nb.KNeighborsClassifier(n_neighbors=ki), X=X_train, y=y_train, cv=10)\n",
    "    lr.append(np.mean(cv_scores))\n",
    "plt.plot(range(1,30,2),lr,'b',label='No weighting')\n",
    "\n",
    "lr = []\n",
    "for ki in range(1,30,2):\n",
    "    cv_scores = cross_val_score(nb.KNeighborsClassifier(n_neighbors=ki,weights='distance'), X=X_train, y=y_train, cv=10)\n",
    "    lr.append(np.mean(cv_scores))\n",
    "plt.plot(range(1,30,2),lr,'r',label='Weighting')\n",
    "plt.xlabel('k')\n",
    "plt.ylabel('Accuracy')\n",
    "plt.legend(loc='upper right')\n",
    "plt.grid()\n",
    "plt.tight_layout()\n",
    "\n",
    "plt.show()"
   ]
  },
  {
   "cell_type": "markdown",
   "metadata": {},
   "source": [
    "### Do the same using Grid Search method in python"
   ]
  },
  {
   "cell_type": "code",
   "execution_count": 44,
   "metadata": {},
   "outputs": [
    {
     "name": "stdout",
     "output_type": "stream",
     "text": [
      "Best Params= {'n_neighbors': 27, 'weights': 'distance'} Accuracy= 0.7937447363502976\n"
     ]
    }
   ],
   "source": [
    "from sklearn.model_selection import GridSearchCV\n",
    "params = {'n_neighbors':list(range(1,30,2)), 'weights':('distance','uniform')}\n",
    "knc = nb.KNeighborsClassifier()\n",
    "clf = GridSearchCV(knc, param_grid=params,cv=10,n_jobs=-1)  # If cv is integer, by default is Stratifyed \n",
    "clf.fit(X_train, y_train)\n",
    "print(\"Best Params=\",clf.best_params_, \"Accuracy=\", clf.best_score_)"
   ]
  },
  {
   "cell_type": "markdown",
   "metadata": {},
   "source": [
    "Apply models with best parameters found trained with all training data to the test set"
   ]
  },
  {
   "cell_type": "code",
   "execution_count": 45,
   "metadata": {},
   "outputs": [
    {
     "name": "stdout",
     "output_type": "stream",
     "text": [
      "[[8739 1846]\n",
      " [1490 4574]]\n",
      "0.7996276052615773\n"
     ]
    }
   ],
   "source": [
    "parval=clf.best_params_\n",
    "knc = nb.KNeighborsClassifier(n_neighbors=parval['n_neighbors'],weights=parval['weights'])\n",
    "knc.fit(X_train, y_train)\n",
    "pred=knc.predict(X_test)\n",
    "print(sklearn.metrics.confusion_matrix(y_test, pred))\n",
    "print(sklearn.metrics.accuracy_score(y_test, pred))"
   ]
  },
  {
   "cell_type": "code",
   "execution_count": 48,
   "metadata": {},
   "outputs": [
    {
     "name": "stdout",
     "output_type": "stream",
     "text": [
      "Can approximate by Normal Distribution?:  True\n",
      "Interval 95% confidence: 0.800 +/- 0.006\n"
     ]
    },
    {
     "data": {
      "text/plain": [
       "(0.7935474194996551, 0.8057077910234994)"
      ]
     },
     "execution_count": 48,
     "metadata": {},
     "output_type": "execute_result"
    }
   ],
   "source": [
    "# interval confidence\n",
    "from statsmodels.stats.proportion import proportion_confint\n",
    "\n",
    "epsilon = sklearn.metrics.accuracy_score(y_test, pred)\n",
    "print(\"Can approximate by Normal Distribution?: \",X_test.shape[0]*epsilon*(1-epsilon)>5)\n",
    "print(\"Interval 95% confidence:\", \"{0:.3f}\".format(epsilon), \"+/-\", \"{0:.3f}\".format(1.96*np.sqrt(epsilon*(1-epsilon)/X_test.shape[0])))\n",
    "# or equivalent \n",
    "proportion_confint(count=epsilon*X_test.shape[0], nobs=X_test.shape[0], alpha=0.05, method='normal')"
   ]
  },
  {
   "cell_type": "code",
   "execution_count": 49,
   "metadata": {},
   "outputs": [
    {
     "data": {
      "text/plain": [
       "(0.7934760786293595, 0.8056693575337901)"
      ]
     },
     "execution_count": 49,
     "metadata": {},
     "output_type": "execute_result"
    }
   ],
   "source": [
    "#Using Binomial distribution\n",
    "\n",
    "proportion_confint(count=epsilon*X_test.shape[0], nobs=X_test.shape[0], alpha=0.05, method='binom_test')"
   ]
  },
  {
   "cell_type": "markdown",
   "metadata": {},
   "source": [
    "### Mcnemar's Test implementation"
   ]
  },
  {
   "cell_type": "code",
   "execution_count": 50,
   "metadata": {},
   "outputs": [
    {
     "name": "stdout",
     "output_type": "stream",
     "text": [
      "Have the classifiers significant different accuracy?: True\n"
     ]
    }
   ],
   "source": [
    "# Build two classifiers\n",
    "\n",
    "# Classifier 1 (3 Neighbours) successes\n",
    "y_pred = cross_val_predict(nb.KNeighborsClassifier(n_neighbors=3), X=X, y=y,  cv=10) \n",
    "res1=np.zeros(y.shape)\n",
    "res1[y_pred==y]=1\n",
    "\n",
    "# Classifier 2 (7 Neighbours) 2 successes\n",
    "y_pred = cross_val_predict(nb.KNeighborsClassifier(n_neighbors=7), X=X, y=y,  cv=10) \n",
    "res2=np.zeros(y.shape)\n",
    "res2[y_pred==y]=1\n",
    "\n",
    "# Build contingency matrix\n",
    "n00 = np.sum([res1[res2==1]==1])\n",
    "n11 = np.sum([res1[res2==0]==0])\n",
    "n10 = np.sum([res1[res2==1]==0])\n",
    "n01 = np.sum([res1[res2==0]==1])\n",
    "\n",
    "# Chi -square test\n",
    "print(\"Have the classifiers significant different accuracy?:\",(np.abs(n01-n10)-1)**2/(n01+n10)>3.84)"
   ]
  },
  {
   "cell_type": "markdown",
   "metadata": {},
   "source": [
    "# Exercises:\n",
    "\n",
    "### Do a 10-fold Cross-Validation using Naive Bayes"
   ]
  },
  {
   "cell_type": "code",
   "execution_count": 53,
   "metadata": {},
   "outputs": [
    {
     "name": "stdout",
     "output_type": "stream",
     "text": [
      "[[6796 3789]\n",
      " [1125 4939]]\n",
      "\n",
      "Accuracy: 0.7048471379662442\n",
      "\n",
      "              precision    recall  f1-score   support\n",
      "\n",
      "         0.0       0.86      0.64      0.73     10585\n",
      "         1.0       0.57      0.81      0.67      6064\n",
      "\n",
      "    accuracy                           0.70     16649\n",
      "   macro avg       0.71      0.73      0.70     16649\n",
      "weighted avg       0.75      0.70      0.71     16649\n",
      "\n"
     ]
    },
    {
     "data": {
      "text/plain": [
       "(0.6978531516155672, 0.7117581560386317)"
      ]
     },
     "execution_count": 53,
     "metadata": {},
     "output_type": "execute_result"
    }
   ],
   "source": [
    "from sklearn.naive_bayes import GaussianNB  # For numerical featuresm assuming normal distribution\n",
    "from sklearn.naive_bayes import MultinomialNB  # For features with counting numbers (f.i. hown many times word appears in doc)\n",
    "from sklearn.naive_bayes import BernoulliNB  # For binari features (f.i. word appears or not in document)\n",
    "\n",
    "# No parameters to tune\n",
    "\n",
    "clf = GaussianNB()\n",
    "pred = clf.fit(X_train, y_train).predict(X_test)\n",
    "print(sklearn.metrics.confusion_matrix(y_test, pred))\n",
    "print()\n",
    "print(\"Accuracy:\", sklearn.metrics.accuracy_score(y_test, pred))\n",
    "print()\n",
    "print(metrics.classification_report(y_test, pred))\n",
    "epsilon = sklearn.metrics.accuracy_score(y_test, pred)\n",
    "proportion_confint(count=epsilon*X_test.shape[0], nobs=X_test.shape[0], alpha=0.05, method='binom_test')"
   ]
  },
  {
   "cell_type": "code",
   "execution_count": null,
   "metadata": {
    "collapsed": true
   },
   "outputs": [],
   "source": []
  }
 ],
 "metadata": {
  "anaconda-cloud": {},
  "kernelspec": {
   "display_name": "Python 3",
   "language": "python",
   "name": "python3"
  },
  "language_info": {
   "codemirror_mode": {
    "name": "ipython",
    "version": 3
   },
   "file_extension": ".py",
   "mimetype": "text/x-python",
   "name": "python",
   "nbconvert_exporter": "python",
   "pygments_lexer": "ipython3",
   "version": "3.5.3"
  }
 },
 "nbformat": 4,
 "nbformat_minor": 1
}
